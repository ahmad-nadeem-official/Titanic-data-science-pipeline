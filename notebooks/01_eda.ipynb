{
  "nbformat": 4,
  "nbformat_minor": 0,
  "metadata": {
    "colab": {
      "provenance": [],
      "gpuType": "V28"
    },
    "kernelspec": {
      "name": "python3",
      "display_name": "Python 3"
    },
    "language_info": {
      "name": "python"
    },
    "accelerator": "TPU"
  },
  "cells": [
    {
      "cell_type": "code",
      "execution_count": 1,
      "metadata": {
        "id": "ZlrI0J0ns2s0"
      },
      "outputs": [],
      "source": [
        "import pandas as pd\n",
        "import matplotlib.pyplot as plt\n",
        "import seaborn as sns\n",
        "from sklearn.preprocessing import MinMaxScaler"
      ]
    },
    {
      "cell_type": "code",
      "source": [
        "data = pd.read_csv(r'/content/Titanic-Dataset.csv')\n",
        "data.rename(columns={'Sex': 'Gender'}, inplace=True)"
      ],
      "metadata": {
        "id": "rPpaRAbPvYJd",
        "collapsed": true
      },
      "execution_count": 4,
      "outputs": []
    },
    {
      "cell_type": "code",
      "source": [
        "class EDA():\n",
        "    def __init__(self, model):\n",
        "        self.data = pd.read_csv(model)\n",
        "\n",
        "    def analysis(self):\n",
        "        while True:\n",
        "            choice = input(\"What EDA now? Type 1 (shape), 2 (head), 3 (tail), 4(columns) 5(info) 6(stats) 0 (exit): \")\n",
        "            if choice == \"1\":\n",
        "                print(self.data.shape)\n",
        "            elif choice == \"2\":\n",
        "                print(self.data.head())\n",
        "            elif choice == \"3\":\n",
        "                print(self.data.tail())\n",
        "            elif choice == \"4\":\n",
        "                print(self.data.columns)\n",
        "            elif choice == \"5\":\n",
        "                print(self.data.info())\n",
        "            elif choice == \"6\":\n",
        "                print(self.data.describe(include='all'))\n",
        "            elif choice == \"0\":\n",
        "                print(\"Exiting EDA...\")\n",
        "                break\n",
        "            else:\n",
        "                print(\"Invalid choice, please select 1, 2, 3 or 0.\")\n",
        "\n",
        "\n",
        "    def visualization(self):\n",
        "        features = list(self.data.columns)  # Access data using sel\n",
        "        print(\"1 - Feature Distribution\")\n",
        "        print(\"2 - Feature vs Feature\")\n",
        "        print(\"3 - Correlation\")\n",
        "        print(\"4 - Outlier Detection (Boxplot)\")\n",
        "\n",
        "        choose = input(\"Which graph to plot: \")\n",
        "        if choose == \"1\":\n",
        "            # Plot feature distribution\n",
        "            self.data.hist(figsize=(12, 8), bins=50, color='skyblue', edgecolor='black')\n",
        "            plt.suptitle(\"Feature Distributions\", fontsize=16)\n",
        "            plt.show()\n",
        "        elif choose == \"2\":\n",
        "            # Plot Feature vs Feature relationship\n",
        "            print(\"Best suggestion: Copy the feature names and then paste them to avoid errors.\")\n",
        "            first = input(\"Enter 1st Feature: \\n\")\n",
        "            second = input(\"Enter 2nd Feature: \\n\")\n",
        "            if first in features and second in features:\n",
        "                plt.figure(figsize=(12, 5))\n",
        "                sns.histplot(data=self.data, x=first, hue=second, multiple='stack', bins=50, palette='pastel', edgecolor='black')\n",
        "                plt.title(f'{first} vs {second}')\n",
        "                plt.xlabel(first)\n",
        "                plt.ylabel('Count')\n",
        "                plt.show()\n",
        "            else:\n",
        "                print(\"Feature not found. Exiting visualization.\")\n",
        "        elif choose == \"3\":\n",
        "            # Plot correlation heatmap\n",
        "            print(\"Please choose whether you want to see the correlation of:\")\n",
        "            print(\"1 - Entire data\")\n",
        "            print(\"2 - Just two columns\")\n",
        "            corr = input(\"Choose visualization option: \")\n",
        "            if corr == \"1\":\n",
        "                try:\n",
        "                    plt.figure(figsize=(10, 8))\n",
        "                    sns.heatmap(self.data.corr(), annot=True, cmap=\"coolwarm\", fmt=\".2f\", linewidths=0.5)\n",
        "                    plt.title('Correlation Heatmap of All Features')\n",
        "                    plt.show()\n",
        "                except Exception as e:\n",
        "                    print(e)\n",
        "            elif corr == \"2\":\n",
        "                print(\"Best suggestion: Copy the feature names and then paste them to avoid errors.\")\n",
        "                f1 = input(\"Enter 1st Feature: \\n\")\n",
        "                f2 = input(\"Enter 2nd Feature: \\n\")\n",
        "                if f1 in features and f2 in features:\n",
        "                    try:\n",
        "                        correl = self.data[[f1, f2]].corr()\n",
        "                        sns.heatmap(correl, annot=True, cmap='coolwarm', square=True, linewidths=1, fmt=\".2f\")\n",
        "                        plt.title(f'Correlation: {f1} vs {f2}')\n",
        "                        plt.show()\n",
        "                    except Exception as e:\n",
        "                        print(e)\n",
        "                else:\n",
        "                    print(\"One or both features not found. Exiting correlation visualization.\")\n",
        "        elif choose == \"4\":\n",
        "            # Plot boxplot for outlier detection\n",
        "            plt.figure(figsize=(12, 6))\n",
        "            sns.boxplot(data=self.data, palette=\"Set2\")\n",
        "            plt.xticks(rotation=45)\n",
        "            plt.title(\"Boxplot of Features\")\n",
        "            plt.show()\n",
        "        else:\n",
        "         print(\"Invalid choice. Please select a valid option (1, 2, 3, or 4).\")\n",
        "\n",
        "\n",
        "    def clean(self):\n",
        "        features = list(self.data.columns)\n",
        "        while True:\n",
        "            print(\"\\nCLEANING OPTIONS:\")\n",
        "            print(\"1 - Show Missing Values\")\n",
        "            print(\"2 - Show Duplicates\")\n",
        "            print(\"3 - Drop Columns\")\n",
        "            print(\"4 - Encoding\")\n",
        "            print(\"5 - Normalize Data\")\n",
        "            print(\"6 - Scale Specific Column\")\n",
        "            print(\"7 - Save the Data\")\n",
        "            print(\"8 - Remove Outliers\")\n",
        "            print(\"0 - Exit Cleaning Menu\")\n",
        "\n",
        "            choice = input(\"Select option: \")\n",
        "\n",
        "            if choice == \"1\":\n",
        "                print(self.data.isnull().sum())\n",
        "                print(\"Total missing values:\", self.data.isnull().sum().sum())\n",
        "                action = input(\"Do you want to handle missing values? (yes/no): \")\n",
        "                if action.lower() == \"yes\":\n",
        "                    print(\"\\nChoose how you want to handle missing values:\")\n",
        "                    print(\"1 - Replace with a specific value\")\n",
        "                    print(\"2 - Remove rows with missing values\")\n",
        "                    print(\"3 - Forward fill or Backward fill\")\n",
        "\n",
        "                    method = input(\"Enter your choice (1/2/3): \")\n",
        "\n",
        "                    if method == \"1\":\n",
        "                        value = input(\"Enter the value to fill missing values: \")\n",
        "                        self.data.fillna(value, inplace=True)\n",
        "                        print(f\"Missing values replaced with '{value}'.\")\n",
        "\n",
        "                    elif method == \"2\":\n",
        "                        self.data.dropna(inplace=True)\n",
        "                        print(\"Rows with missing values removed.\")\n",
        "\n",
        "                    elif method == \"3\":\n",
        "                        print(\"Choose filling method:\")\n",
        "                        print(\"1 - Forward Fill\")\n",
        "                        print(\"2 - Backward Fill\")\n",
        "                        filling = input(\"Enter your choice (1/2): \")\n",
        "                        if filling == \"1\":\n",
        "                            self.data.fillna(method='ffill', inplace=True)\n",
        "                            print(\"Missing values filled using forward fill.\")\n",
        "                        elif filling == \"2\":\n",
        "                            self.data.fillna(method='bfill', inplace=True)\n",
        "                            print(\"Missing values filled using backward fill.\")\n",
        "                        else:\n",
        "                            print(\"Invalid filling choice.\")\n",
        "\n",
        "                    else:\n",
        "                        print(\"Invalid choice.\")\n",
        "\n",
        "            elif choice == \"2\":\n",
        "                print(self.data.duplicated().sum())\n",
        "                print(\"Total duplicates:\", self.data.duplicated().sum())\n",
        "                action = input(\"Do you want to handle duplicates? (yes/no): \")\n",
        "                if action.lower() == \"yes\":\n",
        "                    method = input(\"Type 1 to remove duplicate rows or 2 to replace duplicates with value: \")\n",
        "                    if method == \"1\":\n",
        "                        self.data.drop_duplicates(inplace=True)\n",
        "                        print(\"Duplicate rows removed.\")\n",
        "                    elif method == \"2\":\n",
        "                        print(\"Replacing duplicates is not a common operation. Skipping replacement.\")\n",
        "                    else:\n",
        "                        print(\"Invalid choice.\")\n",
        "\n",
        "            elif choice == \"3\":\n",
        "                col = input(\"Enter column name to drop: \")\n",
        "                if col in features:\n",
        "                    self.data.drop(columns=[col], inplace=True)\n",
        "                    print(f\"Column '{col}' dropped.\")\n",
        "                else:\n",
        "                    print(\"Column not found.\")\n",
        "\n",
        "            elif choice == \"4\":\n",
        "                print(\"Currently we are only doing One Hot Encoding (OHE).\")\n",
        "                self.data = pd.get_dummies(self.data, drop_first=True)\n",
        "                print(\"Encoding completed.\")\n",
        "\n",
        "            elif choice == \"5\":\n",
        "                scaler = MinMaxScaler()\n",
        "                num_cols = self.data.select_dtypes(include=['int64', 'float64']).columns\n",
        "                self.data[num_cols] = scaler.fit_transform(self.data[num_cols])\n",
        "                print(\"Normalization completed.\")\n",
        "\n",
        "            elif choice == \"6\":\n",
        "                col = input(\"Enter column name to scale: \")\n",
        "                if col in features:\n",
        "                    if self.data[col].dtype == 'object':\n",
        "                        print(\"Cannot scale categorical feature.\")\n",
        "                    else:\n",
        "                        scaler = MinMaxScaler()\n",
        "                        self.data[[col]] = scaler.fit_transform(self.data[[col]])\n",
        "                        print(f\"Scaling completed for '{col}'.\")\n",
        "                else:\n",
        "                    print(\"Column not found.\")\n",
        "\n",
        "            elif choice == \"7\":\n",
        "                name = input(\"Enter file name to save (without .csv): \")\n",
        "                self.data.to_csv(f\"{name}.csv\", index=False)\n",
        "                print(f\"Data saved as {name}.csv\")\n",
        "\n",
        "            elif choice == \"8\":\n",
        "                col = input(\"Enter column name to remove outliers: \")\n",
        "                if col in features:\n",
        "                    if self.data[col].dtype == 'object':\n",
        "                        print(\"Cannot remove outliers from categorical column.\")\n",
        "                    else:\n",
        "                        plt.figure(figsize=(8, 4))\n",
        "                        sns.boxplot(x=self.data[col])\n",
        "                        plt.title(f\"Boxplot Before Removing Outliers: {col}\")\n",
        "                        plt.show()\n",
        "\n",
        "                        Q1 = self.data[col].quantile(0.25)\n",
        "                        Q3 = self.data[col].quantile(0.75)\n",
        "                        IQR = Q3 - Q1\n",
        "                        lower_bound = Q1 - 1.5 * IQR\n",
        "                        upper_bound = Q3 + 1.5 * IQR\n",
        "\n",
        "                        self.data = self.data[(self.data[col] >= lower_bound) & (self.data[col] <= upper_bound)]\n",
        "\n",
        "                        plt.figure(figsize=(8, 4))\n",
        "                        sns.boxplot(x=self.data[col])\n",
        "                        plt.title(f\"Boxplot After Removing Outliers: {col}\")\n",
        "                        plt.show()\n",
        "\n",
        "                        print(f\"Outliers removed from '{col}'.\")\n",
        "                else:\n",
        "                    print(\"Column not found.\")\n",
        "\n",
        "            elif choice == \"0\":\n",
        "                print(\"Exiting Cleaning Menu...\")\n",
        "                break\n",
        "\n",
        "            else:\n",
        "                print(\"Invalid choice, try again.\")"
      ],
      "metadata": {
        "id": "PbDwXw5RvYSy"
      },
      "execution_count": 3,
      "outputs": []
    },
    {
      "cell_type": "code",
      "source": [
        "print(dir(EDA))"
      ],
      "metadata": {
        "id": "9-gbtfh9vYqG",
        "colab": {
          "base_uri": "https://localhost:8080/"
        },
        "outputId": "06257ef6-1422-4f69-ab38-143eb4cf3636"
      },
      "execution_count": 5,
      "outputs": [
        {
          "output_type": "stream",
          "name": "stdout",
          "text": [
            "['__class__', '__delattr__', '__dict__', '__dir__', '__doc__', '__eq__', '__format__', '__ge__', '__getattribute__', '__getstate__', '__gt__', '__hash__', '__init__', '__init_subclass__', '__le__', '__lt__', '__module__', '__ne__', '__new__', '__reduce__', '__reduce_ex__', '__repr__', '__setattr__', '__sizeof__', '__str__', '__subclasshook__', '__weakref__', 'analysis', 'clean', 'visualization']\n"
          ]
        }
      ]
    },
    {
      "cell_type": "code",
      "source": [
        "df = r'/content/Titanic-Dataset.csv'"
      ],
      "metadata": {
        "id": "L5tlBooz7arE"
      },
      "execution_count": 7,
      "outputs": []
    },
    {
      "cell_type": "code",
      "source": [
        "model = EDA(df)"
      ],
      "metadata": {
        "id": "O-vi08D2vYsx"
      },
      "execution_count": 8,
      "outputs": []
    },
    {
      "cell_type": "code",
      "source": [
        "model.analysis()"
      ],
      "metadata": {
        "id": "40XTouvVvYvb",
        "colab": {
          "base_uri": "https://localhost:8080/"
        },
        "outputId": "a84d5ce7-6067-42c6-f410-b1a982da51e0"
      },
      "execution_count": 9,
      "outputs": [
        {
          "output_type": "stream",
          "name": "stdout",
          "text": [
            "What EDA now? Type 1 (shape), 2 (head), 3 (tail), 4(columns) 5(info) 6(stats) 0 (exit): 1\n",
            "(891, 12)\n",
            "What EDA now? Type 1 (shape), 2 (head), 3 (tail), 4(columns) 5(info) 6(stats) 0 (exit): 2\n",
            "   PassengerId  Survived  Pclass  \\\n",
            "0            1         0       3   \n",
            "1            2         1       1   \n",
            "2            3         1       3   \n",
            "3            4         1       1   \n",
            "4            5         0       3   \n",
            "\n",
            "                                                Name     Sex   Age  SibSp  \\\n",
            "0                            Braund, Mr. Owen Harris    male  22.0      1   \n",
            "1  Cumings, Mrs. John Bradley (Florence Briggs Th...  female  38.0      1   \n",
            "2                             Heikkinen, Miss. Laina  female  26.0      0   \n",
            "3       Futrelle, Mrs. Jacques Heath (Lily May Peel)  female  35.0      1   \n",
            "4                           Allen, Mr. William Henry    male  35.0      0   \n",
            "\n",
            "   Parch            Ticket     Fare Cabin Embarked  \n",
            "0      0         A/5 21171   7.2500   NaN        S  \n",
            "1      0          PC 17599  71.2833   C85        C  \n",
            "2      0  STON/O2. 3101282   7.9250   NaN        S  \n",
            "3      0            113803  53.1000  C123        S  \n",
            "4      0            373450   8.0500   NaN        S  \n",
            "What EDA now? Type 1 (shape), 2 (head), 3 (tail), 4(columns) 5(info) 6(stats) 0 (exit): 4\n",
            "Index(['PassengerId', 'Survived', 'Pclass', 'Name', 'Sex', 'Age', 'SibSp',\n",
            "       'Parch', 'Ticket', 'Fare', 'Cabin', 'Embarked'],\n",
            "      dtype='object')\n",
            "What EDA now? Type 1 (shape), 2 (head), 3 (tail), 4(columns) 5(info) 6(stats) 0 (exit): 0\n",
            "Exiting EDA...\n"
          ]
        }
      ]
    },
    {
      "cell_type": "code",
      "source": [
        "model.visualization()"
      ],
      "metadata": {
        "id": "a55UwVexvYyD",
        "colab": {
          "base_uri": "https://localhost:8080/",
          "height": 843
        },
        "outputId": "415ae68e-433c-41e3-c20a-bdf3a6a94e10"
      },
      "execution_count": 10,
      "outputs": [
        {
          "name": "stdout",
          "output_type": "stream",
          "text": [
            "1 - Feature Distribution\n",
            "2 - Feature vs Feature\n",
            "3 - Correlation\n",
            "4 - Outlier Detection (Boxplot)\n",
            "Which graph to plot: 1\n"
          ]
        },
        {
          "output_type": "display_data",
          "data": {
            "text/plain": [
              "<Figure size 1200x800 with 9 Axes>"
            ],
            "image/png": "[encoded data removed]"
          },
          "metadata": {}
        }
      ]
    },
    {
      "cell_type": "code",
      "source": [
        "model.visualization()"
      ],
      "metadata": {
        "id": "KpvPIoNCvY0m",
        "colab": {
          "base_uri": "https://localhost:8080/",
          "height": 208
        },
        "outputId": "2021ebed-083a-494a-c318-e6c8bdfc567c"
      },
      "execution_count": 11,
      "outputs": [
        {
          "output_type": "stream",
          "name": "stdout",
          "text": [
            "1 - Feature Distribution\n",
            "2 - Feature vs Feature\n",
            "3 - Correlation\n",
            "4 - Outlier Detection (Boxplot)\n",
            "Which graph to plot: 3\n",
            "Please choose whether you want to see the correlation of:\n",
            "1 - Entire data\n",
            "2 - Just two columns\n",
            "Choose visualization option: 1\n",
            "could not convert string to float: 'Braund, Mr. Owen Harris'\n"
          ]
        },
        {
          "output_type": "display_data",
          "data": {
            "text/plain": [
              "<Figure size 1000x800 with 0 Axes>"
            ]
          },
          "metadata": {}
        }
      ]
    },
    {
      "cell_type": "code",
      "source": [
        "model.clean()"
      ],
      "metadata": {
        "id": "dMxNWT7JvY3G",
        "colab": {
          "base_uri": "https://localhost:8080/"
        },
        "outputId": "af25f04c-80aa-4a12-90ac-2b2c5b2a3354"
      },
      "execution_count": 13,
      "outputs": [
        {
          "output_type": "stream",
          "name": "stdout",
          "text": [
            "\n",
            "CLEANING OPTIONS:\n",
            "1 - Show Missing Values\n",
            "2 - Show Duplicates\n",
            "3 - Drop Columns\n",
            "4 - Encoding\n",
            "5 - Normalize Data\n",
            "6 - Scale Specific Column\n",
            "7 - Save the Data\n",
            "8 - Remove Outliers\n",
            "0 - Exit Cleaning Menu\n",
            "Select option: 1\n",
            "Survived    0\n",
            "Name        0\n",
            "Age         0\n",
            "Parch       0\n",
            "Fare        0\n",
            "Embarked    0\n",
            "dtype: int64\n",
            "Total missing values: 0\n",
            "Do you want to handle missing values? (yes/no): no\n",
            "\n",
            "CLEANING OPTIONS:\n",
            "1 - Show Missing Values\n",
            "2 - Show Duplicates\n",
            "3 - Drop Columns\n",
            "4 - Encoding\n",
            "5 - Normalize Data\n",
            "6 - Scale Specific Column\n",
            "7 - Save the Data\n",
            "8 - Remove Outliers\n",
            "0 - Exit Cleaning Menu\n",
            "Select option: 3\n",
            "Enter column name to drop: Name\n",
            "Column 'Name' dropped.\n",
            "\n",
            "CLEANING OPTIONS:\n",
            "1 - Show Missing Values\n",
            "2 - Show Duplicates\n",
            "3 - Drop Columns\n",
            "4 - Encoding\n",
            "5 - Normalize Data\n",
            "6 - Scale Specific Column\n",
            "7 - Save the Data\n",
            "8 - Remove Outliers\n",
            "0 - Exit Cleaning Menu\n",
            "Select option: 0\n",
            "Exiting Cleaning Menu...\n"
          ]
        }
      ]
    },
    {
      "cell_type": "code",
      "source": [
        "['PassengerId', 'Survived', 'Pclass', 'Name', 'Sex', 'Age', 'SibSp',\n",
        "       'Parch', 'Ticket', 'Fare', 'Cabin', 'Embarked']"
      ],
      "metadata": {
        "id": "LBAMiSyqvY6I",
        "colab": {
          "base_uri": "https://localhost:8080/"
        },
        "outputId": "c3e75734-39e5-42f1-ec09-7dee0d239c6d"
      },
      "execution_count": 14,
      "outputs": [
        {
          "output_type": "execute_result",
          "data": {
            "text/plain": [
              "['PassengerId',\n",
              " 'Survived',\n",
              " 'Pclass',\n",
              " 'Name',\n",
              " 'Sex',\n",
              " 'Age',\n",
              " 'SibSp',\n",
              " 'Parch',\n",
              " 'Ticket',\n",
              " 'Fare',\n",
              " 'Cabin',\n",
              " 'Embarked']"
            ]
          },
          "metadata": {},
          "execution_count": 14
        }
      ]
    },
    {
      "cell_type": "code",
      "source": [
        "model.analysis()"
      ],
      "metadata": {
        "id": "tJgY8et2vY8s",
        "colab": {
          "base_uri": "https://localhost:8080/"
        },
        "outputId": "46fd3fae-d7f5-42ca-9aa7-1663ec1010d0"
      },
      "execution_count": 15,
      "outputs": [
        {
          "output_type": "stream",
          "name": "stdout",
          "text": [
            "What EDA now? Type 1 (shape), 2 (head), 3 (tail), 4(columns) 5(info) 6(stats) 0 (exit): 2\n",
            "    Survived   Age  Parch     Fare Embarked\n",
            "1          1  38.0      0  71.2833        C\n",
            "3          1  35.0      0  53.1000        S\n",
            "6          0  54.0      0  51.8625        S\n",
            "10         1   4.0      1  16.7000        S\n",
            "11         1  58.0      0  26.5500        S\n",
            "What EDA now? Type 1 (shape), 2 (head), 3 (tail), 4(columns) 5(info) 6(stats) 0 (exit): 0\n",
            "Exiting EDA...\n"
          ]
        }
      ]
    },
    {
      "cell_type": "code",
      "source": [
        "model.clean()"
      ],
      "metadata": {
        "id": "1dQcx89FvY_Z",
        "colab": {
          "base_uri": "https://localhost:8080/"
        },
        "outputId": "26091557-26ec-4e4f-e028-7a4683116eb5"
      },
      "execution_count": 16,
      "outputs": [
        {
          "output_type": "stream",
          "name": "stdout",
          "text": [
            "\n",
            "CLEANING OPTIONS:\n",
            "1 - Show Missing Values\n",
            "2 - Show Duplicates\n",
            "3 - Drop Columns\n",
            "4 - Encoding\n",
            "5 - Normalize Data\n",
            "6 - Scale Specific Column\n",
            "7 - Save the Data\n",
            "8 - Remove Outliers\n",
            "0 - Exit Cleaning Menu\n",
            "Select option: 3\n",
            "Enter column name to drop: Embarked\n",
            "Column 'Embarked' dropped.\n",
            "\n",
            "CLEANING OPTIONS:\n",
            "1 - Show Missing Values\n",
            "2 - Show Duplicates\n",
            "3 - Drop Columns\n",
            "4 - Encoding\n",
            "5 - Normalize Data\n",
            "6 - Scale Specific Column\n",
            "7 - Save the Data\n",
            "8 - Remove Outliers\n",
            "0 - Exit Cleaning Menu\n",
            "Select option: 0\n",
            "Exiting Cleaning Menu...\n"
          ]
        }
      ]
    },
    {
      "cell_type": "code",
      "source": [
        "model.analysis()"
      ],
      "metadata": {
        "colab": {
          "base_uri": "https://localhost:8080/"
        },
        "id": "knMSudir-LqY",
        "outputId": "f2e5b28b-d25c-4823-e48a-4ac771823f75"
      },
      "execution_count": 17,
      "outputs": [
        {
          "output_type": "stream",
          "name": "stdout",
          "text": [
            "What EDA now? Type 1 (shape), 2 (head), 3 (tail), 4(columns) 5(info) 6(stats) 0 (exit): 2\n",
            "    Survived   Age  Parch     Fare\n",
            "1          1  38.0      0  71.2833\n",
            "3          1  35.0      0  53.1000\n",
            "6          0  54.0      0  51.8625\n",
            "10         1   4.0      1  16.7000\n",
            "11         1  58.0      0  26.5500\n",
            "What EDA now? Type 1 (shape), 2 (head), 3 (tail), 4(columns) 5(info) 6(stats) 0 (exit): 0\n",
            "Exiting EDA...\n"
          ]
        }
      ]
    },
    {
      "cell_type": "code",
      "source": [
        "model.clean()"
      ],
      "metadata": {
        "colab": {
          "base_uri": "https://localhost:8080/"
        },
        "id": "WL-a_WDT-LtR",
        "outputId": "3f3af051-46f5-4236-cfe7-b2d26c1780d9"
      },
      "execution_count": 18,
      "outputs": [
        {
          "output_type": "stream",
          "name": "stdout",
          "text": [
            "\n",
            "CLEANING OPTIONS:\n",
            "1 - Show Missing Values\n",
            "2 - Show Duplicates\n",
            "3 - Drop Columns\n",
            "4 - Encoding\n",
            "5 - Normalize Data\n",
            "6 - Scale Specific Column\n",
            "7 - Save the Data\n",
            "8 - Remove Outliers\n",
            "0 - Exit Cleaning Menu\n",
            "Select option: 7\n",
            "Enter file name to save (without .csv): cleaned_titanic\n",
            "Data saved as cleaned_titanic.csv\n",
            "\n",
            "CLEANING OPTIONS:\n",
            "1 - Show Missing Values\n",
            "2 - Show Duplicates\n",
            "3 - Drop Columns\n",
            "4 - Encoding\n",
            "5 - Normalize Data\n",
            "6 - Scale Specific Column\n",
            "7 - Save the Data\n",
            "8 - Remove Outliers\n",
            "0 - Exit Cleaning Menu\n",
            "Select option: 0\n",
            "Exiting Cleaning Menu...\n"
          ]
        }
      ]
    },
    {
      "cell_type": "code",
      "source": [],
      "metadata": {
        "id": "-8mAWVY4-LwD"
      },
      "execution_count": null,
      "outputs": []
    },
    {
      "cell_type": "code",
      "source": [],
      "metadata": {
        "id": "LZRjQT4g-Ly_"
      },
      "execution_count": null,
      "outputs": []
    },
    {
      "cell_type": "code",
      "source": [],
      "metadata": {
        "id": "_JtTHaR--L1w"
      },
      "execution_count": null,
      "outputs": []
    },
    {
      "cell_type": "code",
      "source": [],
      "metadata": {
        "id": "JmCqceLE-L4g"
      },
      "execution_count": null,
      "outputs": []
    },
    {
      "cell_type": "code",
      "source": [],
      "metadata": {
        "id": "RDrJFC5L-L7R"
      },
      "execution_count": null,
      "outputs": []
    },
    {
      "cell_type": "code",
      "source": [],
      "metadata": {
        "id": "zljuLD8Z-L-H"
      },
      "execution_count": null,
      "outputs": []
    },
    {
      "cell_type": "code",
      "source": [],
      "metadata": {
        "id": "JQfGzXgr-MA3"
      },
      "execution_count": null,
      "outputs": []
    },
    {
      "cell_type": "code",
      "source": [],
      "metadata": {
        "id": "fENnx9X--MDt"
      },
      "execution_count": null,
      "outputs": []
    },
    {
      "cell_type": "code",
      "source": [],
      "metadata": {
        "id": "T-Hp1jRF-MGl"
      },
      "execution_count": null,
      "outputs": []
    }
  ]
}